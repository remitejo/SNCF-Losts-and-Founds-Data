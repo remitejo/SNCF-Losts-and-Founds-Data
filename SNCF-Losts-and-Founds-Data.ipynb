{
 "cells": [
  {
   "cell_type": "markdown",
   "metadata": {},
   "source": [
    "# Data structuring and NoSQL databases' Project\n",
    "\n",
    "### Plan :\n",
    "1. Load every datasets\n",
    "2. Showing inconsistencies\n",
    "3. Correcting/Cleaning everything with pandas\n",
    "4. Putting everything in MongoDB\n",
    "5. Selects, operations and showing graphs & insights "
   ]
  },
  {
   "cell_type": "code",
   "execution_count": 1,
   "metadata": {},
   "outputs": [],
   "source": [
    "# Importing every packet we'll need\n",
    "import math as ma\n",
    "from datetime import datetime, timedelta\n",
    "import numpy as np\n",
    "\n",
    "import pandas as pd\n",
    "from pandas.io.json import json_normalize\n",
    "\n",
    "import pymongo\n",
    "from pymongo import MongoClient"
   ]
  },
  {
   "cell_type": "markdown",
   "metadata": {},
   "source": [
    "#### 1. Load every datasets"
   ]
  },
  {
   "cell_type": "code",
   "execution_count": 2,
   "metadata": {},
   "outputs": [],
   "source": [
    "# Found Objects\n",
    "foundObjects = pd.read_csv(\"foundObjects.csv\", delimiter = \";\", encoding=\"utf-8\")\n",
    "# Returned Objects\n",
    "#lostObjects = pd.read_csv(\"lostObjects.csv\", delimiter = \";\", encoding=\"utf-8\")\n",
    "lostObjects = pd.read_json(\"lostObjects.json\")\n",
    "# Attendace in train stations (2014, 2015, 2016)\n",
    "attendance = pd.read_json(\"attendance.json\")\n",
    "# Weather of Paris, hour by hour (year : 2017)\n",
    "weather = pd.read_csv(\"parisWeather2017.csv\", delimiter = \",\", encoding=\"utf-8\")\n",
    "# Station list\n",
    "stationList = pd.DataFrame(pd.read_csv(\"station_list.csv\", delimiter =\";\",encoding=\"utf-8\") )\n",
    "# List of station with wireless\n",
    "stationWireless = pd.read_json(\"stationWireless.json\")"
   ]
  },
  {
   "cell_type": "code",
   "execution_count": 3,
   "metadata": {},
   "outputs": [],
   "source": [
    "#Renaming columns to make them shorter / make them standardized\n",
    "lostObjects = pd.DataFrame.from_dict(json_normalize(lostObjects[\"fields\"]), orient='columns')\n",
    "lostObjects.rename(index=str, columns = {  \"gc_obo_type_c\":\"object_type\",\\\n",
    "                                            \"gc_obo_nature_c\":\"object_nature\",\\\n",
    "                                            \"gc_obo_nom_recordtype_sc_c\":\"recording_type\",\\\n",
    "                                            \"gc_obo_gare_origine_r_name\":\"station\",\\\n",
    "                                            \"gc_obo_gare_origine_r_code_uic_c\":\"uic_code\"}, inplace = True)\n",
    "\n",
    "foundObjects.rename(index=str, columns = { \"Date\":\"date\",\\\n",
    "                                           \"Date et heure de restitution\":\"restitution_date\",\\\n",
    "                                           \"Gare\":\"station\",\\\n",
    "                                           \"Code UIC\":\"uic_code\",\\\n",
    "                                           \"Nature d'objets\":\"object_nature\",\\\n",
    "                                           \"Type d'objets\":\"object_type\",\\\n",
    "                                           \"Type d'enregistrement\":\"recording_type\"}, inplace = True)\n",
    "\n",
    "stationList = stationList[[\"CODE_UIC\",\"LIBELLE_GARE\",\"CODE_LIGNE\",\"COMMUNE\",\"DEPARTEMENT\",\"coordonnees_geographiques\"]]\\\n",
    "                .rename(index=str, columns={\"CODE_UIC\":\"uic_code\",\"LIBELLE_GARE\":\"station_name\",\"CODE_LIGNE\":\"line_code\",\"COMMUNE\":\"city\",\"DEPARTEMENT\":\"department\",\"coordonnees_geographiques\":\"gps_coordinates\"})\n"
   ]
  },
  {
   "cell_type": "markdown",
   "metadata": {},
   "source": [
    "#### 2. Showing some of the inconsistencies"
   ]
  },
  {
   "cell_type": "code",
   "execution_count": 4,
   "metadata": {},
   "outputs": [
    {
     "name": "stdout",
     "output_type": "stream",
     "text": [
      "Lines with Na in foundObjects : 350310\n",
      "Lines with Na in returnedObjects : 607764\n"
     ]
    }
   ],
   "source": [
    "# Lot of Not Available values\n",
    "print(\"Lines with Na in foundObjects :\", foundObjects[\"date\"].count() - foundObjects.dropna()[\"date\"].count())\n",
    "print(\"Lines with Na in returnedObjects :\", lostObjects[\"date\"].count() - lostObjects.dropna()[\"date\"].count())"
   ]
  },
  {
   "cell_type": "code",
   "execution_count": 5,
   "metadata": {
    "scrolled": true
   },
   "outputs": [
    {
     "name": "stdout",
     "output_type": "stream",
     "text": [
      "['Appareil Ã©lectroniques, informatiques, appareils photo'\n",
      " 'Appareils Ã©lectroniques, informatiques, appareils photo'\n",
      " 'Appareils électroniques, informatiques, appareils photo'\n",
      " \"Articles d'enfants, de puériculture\"\n",
      " 'Articles de sport, loisirs, camping' 'Articles médicaux'\n",
      " 'Bagagerie: sacs, valises, cartables' 'Bijoux, montres'\n",
      " 'Clés, porte-clés, badge magnétique' 'Divers' 'Instruments de musique'\n",
      " 'Keys, keyholders, magnetic badges' 'Livres, articles de papéterie'\n",
      " 'Optique' 'Parapluies' \"Pièces d'identités et papiers personnels\"\n",
      " 'Porte-monnaie / portefeuille, argent, titres'\n",
      " 'Vélos, trotinettes, accessoires 2 roues'\n",
      " 'Vélos, trottinettes, accessoires 2 roues' 'Vêtements, chaussures']\n"
     ]
    }
   ],
   "source": [
    "# Same categories under different names (example with foundObjects)\n",
    "print(lostObjects[\"object_type\"].sort_values(ascending = True).unique())"
   ]
  },
  {
   "cell_type": "code",
   "execution_count": 6,
   "metadata": {},
   "outputs": [
    {
     "data": {
      "text/html": [
       "<div>\n",
       "<style scoped>\n",
       "    .dataframe tbody tr th:only-of-type {\n",
       "        vertical-align: middle;\n",
       "    }\n",
       "\n",
       "    .dataframe tbody tr th {\n",
       "        vertical-align: top;\n",
       "    }\n",
       "\n",
       "    .dataframe thead th {\n",
       "        text-align: right;\n",
       "    }\n",
       "</style>\n",
       "<table border=\"1\" class=\"dataframe\">\n",
       "  <thead>\n",
       "    <tr style=\"text-align: right;\">\n",
       "      <th></th>\n",
       "      <th>datasetid</th>\n",
       "      <th>fields</th>\n",
       "      <th>record_timestamp</th>\n",
       "      <th>recordid</th>\n",
       "    </tr>\n",
       "  </thead>\n",
       "  <tbody>\n",
       "    <tr>\n",
       "      <th>0</th>\n",
       "      <td>frequentation-gares</td>\n",
       "      <td>{'voyageurs_2016': 53644, 'voyageurs_2015': 60...</td>\n",
       "      <td>2017-09-25T15:03:18+02:00</td>\n",
       "      <td>ebd19757d3cbb5d2af35e94796ac5d5f75de27d5</td>\n",
       "    </tr>\n",
       "  </tbody>\n",
       "</table>\n",
       "</div>"
      ],
      "text/plain": [
       "             datasetid                                             fields  \\\n",
       "0  frequentation-gares  {'voyageurs_2016': 53644, 'voyageurs_2015': 60...   \n",
       "\n",
       "            record_timestamp                                  recordid  \n",
       "0  2017-09-25T15:03:18+02:00  ebd19757d3cbb5d2af35e94796ac5d5f75de27d5  "
      ]
     },
     "execution_count": 6,
     "metadata": {},
     "output_type": "execute_result"
    }
   ],
   "source": [
    "# Read json doesn't read properly the file (.json)\n",
    "attendance.head(1)"
   ]
  },
  {
   "cell_type": "markdown",
   "metadata": {},
   "source": [
    "#### 3.Correcting / Cleaning everything with pandas"
   ]
  },
  {
   "cell_type": "code",
   "execution_count": 7,
   "metadata": {
    "scrolled": false
   },
   "outputs": [
    {
     "data": {
      "text/plain": [
       "array(['Appareils électroniques, informatiques, appareils photo',\n",
       "       'Porte-monnaie / portefeuille, argent, titres',\n",
       "       'Vêtements, chaussures', 'Bagagerie: sacs, valises, cartables',\n",
       "       'Clés, porte-clés, badge magnétique',\n",
       "       \"Articles d'enfants, de puériculture\",\n",
       "       \"Pièces d'identités et papiers personnels\",\n",
       "       'Livres, articles de papéterie', 'Bijoux, montres', 'Divers',\n",
       "       'Articles de sport, loisirs, camping', 'Optique',\n",
       "       'Articles médicaux', 'Vélos, trottinettes, accessoires 2 roues',\n",
       "       'Parapluies', 'Instruments de musique',\n",
       "       'Keys, keyholders, magnetic badges',\n",
       "       'Appareil Ã©lectroniques, informatiques, appareils photo',\n",
       "       'Appareils Ã©lectroniques, informatiques, appareils photo',\n",
       "       'Vélos, trotinettes, accessoires 2 roues'], dtype=object)"
      ]
     },
     "execution_count": 7,
     "metadata": {},
     "output_type": "execute_result"
    }
   ],
   "source": [
    "# Lost Objects\n",
    "\n",
    "# Correcting categories names problem\n",
    "lostObjects.replace({ \"objects_type\" : {'Appareil Ã©lectroniques, informatiques, appareils photo':\"Appareils électroniques, informatiques, appareils photo\",\\\n",
    "                                        \"Vélos, trotinettes, accessoires 2 roues\":\"Vélos, trottinettes, accessoires 2 roues\",\\\n",
    "                                        \"Keys, keyholders, magnetic badges\":\"Clés, porte-clés, badge magnétique\"} }\\\n",
    "                         ,regex = True,inplace = True)\n",
    "# Changing Date (string with timezone) to Datetime\n",
    "lostObjects['date'] =  pd.to_datetime(lostObjects['date'])\n",
    "\n",
    "# Dropping all lines with no uic_code (no station associated)\n",
    "# lostObjects.dropna(subset=[\"uic_code\"], inplace=True)\n",
    "\n",
    "# Casting uic_code to int instead of float\n",
    "\n",
    "#lostObjects[\"uic_code\"] = \n",
    "lostObjects[\"uic_code\"].apply(lambda x : int(x) if (not ma.isnan(float(x))) else x)\n",
    "\n",
    "lostObjects[\"object_type\"].unique()"
   ]
  },
  {
   "cell_type": "code",
   "execution_count": 8,
   "metadata": {},
   "outputs": [],
   "source": [
    "#Station List\n",
    "\n",
    "#Adding wireless in the columns\n",
    "\n",
    "stationWireless = pd.DataFrame.from_dict(json_normalize(stationWireless[\"fields\"]), orient='columns')\\\n",
    "                    .rename(index=str, columns={\"uic\":\"uic_code\"})\n",
    "# Fixing inconsistent UIC Code format problem (by adding 87 front of attendance's UIC Code)\n",
    "stationWireless[\"uic_code\"] = stationWireless[\"uic_code\"].apply(lambda x: int(\"87\"+str(x)))\n",
    "# Merging both, filling the ones not matched with Non (we just guess that if they had it, it would be on it)\n",
    "stationList = stationList.merge(stationWireless[[\"uic_code\",\"service_wifi\"]], how=\"outer\", on=\"uic_code\").fillna('Non')"
   ]
  },
  {
   "cell_type": "code",
   "execution_count": 9,
   "metadata": {
    "scrolled": true
   },
   "outputs": [],
   "source": [
    "# Attendance\n",
    "\n",
    "# Extending fields in multiple columns\n",
    "attendance = pd.DataFrame.from_dict(json_normalize(attendance[\"fields\"]), orient='columns')\n",
    "attendance.rename(index = str, columns = {  \"code_postal\":\"zip_code\",\\\n",
    "                                            \"code_uic\":\"uic_code\",\\\n",
    "                                            \"nom_gare\":\"station\",\\\n",
    "                                            \"segmentation_decret\":\"category\",\\\n",
    "                                            \"volume_total_d_usagers_2014_voyageurs_non_voyageurs\":\"total_2014\",\\\n",
    "                                            \"volume_total_d_usagers_2015_voyageurs_non_voyageurs\":\"total_2015\",\\\n",
    "                                            \"volume_total_d_usagers_2016_voyageurs_non_voyageurs\":\"total_2016\",\\\n",
    "                                            \"voyageurs_2014\":\"2014\",\\\n",
    "                                            \"voyageurs_2015\":\"2015\",\\\n",
    "                                            \"voyageurs_2016\":\"2016\"}, inplace = True)\n",
    "# Fixing inconsistent UIC Code format problem (by adding 87 front of attendance's UIC Code)\n",
    "attendance[\"uic_code\"] = attendance[\"uic_code\"].apply(lambda x: int(\"87\"+str(x)))\n",
    "\n",
    "# We need one line per year & city instead of one line for 3 years per city\n",
    "attendance = pd.melt(attendance, id_vars=[\"station\",\"zip_code\",\"uic_code\",\"category\"],var_name='type').dropna().sort_values(by=\"zip_code\")\n",
    "\n",
    "# We transfer zip code & category in stationList collection (don't need to have zipcode eache year)\n",
    "stationList = stationList.merge(attendance[[\"uic_code\", \"zip_code\", \"category\"]], how='inner', on=\"uic_code\")\n",
    "#Then keep the remaining parts\n",
    "attendance = attendance[[\"uic_code\", \"type\",\"value\"]]"
   ]
  },
  {
   "cell_type": "code",
   "execution_count": 10,
   "metadata": {},
   "outputs": [
    {
     "data": {
      "text/html": [
       "<div>\n",
       "<style scoped>\n",
       "    .dataframe tbody tr th:only-of-type {\n",
       "        vertical-align: middle;\n",
       "    }\n",
       "\n",
       "    .dataframe tbody tr th {\n",
       "        vertical-align: top;\n",
       "    }\n",
       "\n",
       "    .dataframe thead th {\n",
       "        text-align: right;\n",
       "    }\n",
       "</style>\n",
       "<table border=\"1\" class=\"dataframe\">\n",
       "  <thead>\n",
       "    <tr style=\"text-align: right;\">\n",
       "      <th></th>\n",
       "      <th>date</th>\n",
       "      <th>restitution_date</th>\n",
       "      <th>station</th>\n",
       "      <th>uic_code</th>\n",
       "      <th>object_nature</th>\n",
       "      <th>object_type</th>\n",
       "      <th>recording_type</th>\n",
       "    </tr>\n",
       "  </thead>\n",
       "  <tbody>\n",
       "    <tr>\n",
       "      <th>0</th>\n",
       "      <td>2018-01-23 13:33:43</td>\n",
       "      <td>Na</td>\n",
       "      <td>Bourges</td>\n",
       "      <td>87576207</td>\n",
       "      <td>Autres divers (préciser)</td>\n",
       "      <td>Divers</td>\n",
       "      <td>Objet trouvé</td>\n",
       "    </tr>\n",
       "    <tr>\n",
       "      <th>1</th>\n",
       "      <td>2018-01-23 13:34:38</td>\n",
       "      <td>2018-01-23 13:54:28</td>\n",
       "      <td>Paris Montparnasse</td>\n",
       "      <td>87391003</td>\n",
       "      <td>Valise, sac sur roulettes</td>\n",
       "      <td>Bagagerie: sacs, valises, cartables</td>\n",
       "      <td>Objet trouvé</td>\n",
       "    </tr>\n",
       "    <tr>\n",
       "      <th>2</th>\n",
       "      <td>2018-01-23 13:53:49</td>\n",
       "      <td>Na</td>\n",
       "      <td>Marseille Saint-Charles</td>\n",
       "      <td>87751008</td>\n",
       "      <td>Valise, sac sur roulettes</td>\n",
       "      <td>Bagagerie: sacs, valises, cartables</td>\n",
       "      <td>Objet trouvé</td>\n",
       "    </tr>\n",
       "    <tr>\n",
       "      <th>3</th>\n",
       "      <td>2018-01-23 13:54:22</td>\n",
       "      <td>2018-03-05 13:59:46</td>\n",
       "      <td>Valence</td>\n",
       "      <td>87761007</td>\n",
       "      <td>Sac à dos</td>\n",
       "      <td>Bagagerie: sacs, valises, cartables</td>\n",
       "      <td>Objet trouvé</td>\n",
       "    </tr>\n",
       "    <tr>\n",
       "      <th>4</th>\n",
       "      <td>2018-01-23 14:01:05</td>\n",
       "      <td>2018-01-31 08:40:52</td>\n",
       "      <td>Chartres</td>\n",
       "      <td>87394007</td>\n",
       "      <td>Clés, porte-clés</td>\n",
       "      <td>Clés, porte-clés, badge magnétique</td>\n",
       "      <td>Objet trouvé</td>\n",
       "    </tr>\n",
       "  </tbody>\n",
       "</table>\n",
       "</div>"
      ],
      "text/plain": [
       "                 date     restitution_date                  station  uic_code  \\\n",
       "0 2018-01-23 13:33:43                   Na                  Bourges  87576207   \n",
       "1 2018-01-23 13:34:38  2018-01-23 13:54:28       Paris Montparnasse  87391003   \n",
       "2 2018-01-23 13:53:49                   Na  Marseille Saint-Charles  87751008   \n",
       "3 2018-01-23 13:54:22  2018-03-05 13:59:46                  Valence  87761007   \n",
       "4 2018-01-23 14:01:05  2018-01-31 08:40:52                 Chartres  87394007   \n",
       "\n",
       "               object_nature                          object_type  \\\n",
       "0   Autres divers (préciser)                               Divers   \n",
       "1  Valise, sac sur roulettes  Bagagerie: sacs, valises, cartables   \n",
       "2  Valise, sac sur roulettes  Bagagerie: sacs, valises, cartables   \n",
       "3                  Sac à dos  Bagagerie: sacs, valises, cartables   \n",
       "4           Clés, porte-clés   Clés, porte-clés, badge magnétique   \n",
       "\n",
       "  recording_type  \n",
       "0   Objet trouvé  \n",
       "1   Objet trouvé  \n",
       "2   Objet trouvé  \n",
       "3   Objet trouvé  \n",
       "4   Objet trouvé  "
      ]
     },
     "execution_count": 10,
     "metadata": {},
     "output_type": "execute_result"
    }
   ],
   "source": [
    "# Found Objects\n",
    "\n",
    "# Changing Date (string with timezone) to Datetime\n",
    "#Goal : being able to use accessors such as dt.date to extract date (without time)\n",
    "foundObjects['date'] =  pd.to_datetime(foundObjects['date'])\n",
    "foundObjects['restitution_date'] =  pd.to_datetime(foundObjects['restitution_date'])\n",
    "\n",
    "# Dropping all lines with no uic_code (no station associated)\n",
    "foundObjects.dropna(subset=[\"uic_code\"], inplace=True)\n",
    "# Casting uic_code to int instead of float\n",
    "foundObjects[\"uic_code\"] = foundObjects[\"uic_code\"].apply(lambda x : int(x))\n",
    "\n",
    "#Filling missing ones with Na\n",
    "foundObjects[\"restitution_date\"].fillna('Na', inplace = True)\n",
    "foundObjects.head(5)"
   ]
  },
  {
   "cell_type": "code",
   "execution_count": 11,
   "metadata": {
    "scrolled": false
   },
   "outputs": [
    {
     "data": {
      "text/html": [
       "<div>\n",
       "<style scoped>\n",
       "    .dataframe tbody tr th:only-of-type {\n",
       "        vertical-align: middle;\n",
       "    }\n",
       "\n",
       "    .dataframe tbody tr th {\n",
       "        vertical-align: top;\n",
       "    }\n",
       "\n",
       "    .dataframe thead th {\n",
       "        text-align: right;\n",
       "    }\n",
       "</style>\n",
       "<table border=\"1\" class=\"dataframe\">\n",
       "  <thead>\n",
       "    <tr style=\"text-align: right;\">\n",
       "      <th></th>\n",
       "      <th>city</th>\n",
       "      <th>date</th>\n",
       "      <th>temperature</th>\n",
       "      <th>weather_description</th>\n",
       "      <th>weather_quality_code</th>\n",
       "      <th>rain_period_quantity</th>\n",
       "      <th>rain_depth_dimension</th>\n",
       "      <th>rain_condition_code</th>\n",
       "      <th>rain_quality_code</th>\n",
       "    </tr>\n",
       "  </thead>\n",
       "  <tbody>\n",
       "    <tr>\n",
       "      <th>0</th>\n",
       "      <td>Paris</td>\n",
       "      <td>2017-01-01</td>\n",
       "      <td>-3.91</td>\n",
       "      <td>00</td>\n",
       "      <td>1</td>\n",
       "      <td>03</td>\n",
       "      <td>0000</td>\n",
       "      <td>9</td>\n",
       "      <td>1</td>\n",
       "    </tr>\n",
       "  </tbody>\n",
       "</table>\n",
       "</div>"
      ],
      "text/plain": [
       "    city       date  temperature weather_description weather_quality_code  \\\n",
       "0  Paris 2017-01-01        -3.91                  00                    1   \n",
       "\n",
       "  rain_period_quantity rain_depth_dimension rain_condition_code  \\\n",
       "0                   03                 0000                   9   \n",
       "\n",
       "  rain_quality_code  \n",
       "0                 1  "
      ]
     },
     "execution_count": 11,
     "metadata": {},
     "output_type": "execute_result"
    }
   ],
   "source": [
    "# Weather (in Paris for the example)\n",
    "\n",
    "weather = pd.concat([\n",
    "                            pd.DataFrame([\"Paris\"] * len(weather), columns=[\"city\"])\n",
    "                           ,pd.to_datetime(weather[\"DATE\"])\n",
    "                           ,weather[\"TMP\"].apply(lambda x: float( x.replace(',','.') )/10)\n",
    "                           ,pd.DataFrame(weather[\"MW1\"].apply(lambda x: str(x)).str.split(',',1).tolist(),\n",
    "                                                   columns = ['weather_description','weather_quality_code'])\n",
    "                           ,pd.DataFrame(weather[\"AA1\"].str.split(',',4).tolist(),\n",
    "                                                   columns = ['rain_period_quantity','rain_depth_dimension','rain_condition_code','rain_quality_code'])\n",
    "                          ]\n",
    "                          , axis = 1).rename(index=str, columns = { \"DATE\":\"date\", \"TMP\":\"temperature\" })\n",
    "\n",
    "# Dropping rows with quality equals to none\n",
    "weather = weather.dropna()\n",
    "# Cleaning \n",
    "weather = weather.loc[weather[\"temperature\"] != 999.99]\n",
    "\n",
    "weather.head(1)"
   ]
  },
  {
   "cell_type": "markdown",
   "metadata": {},
   "source": [
    "#### 4.Putting everything in MongoDB"
   ]
  },
  {
   "cell_type": "code",
   "execution_count": 12,
   "metadata": {},
   "outputs": [],
   "source": [
    "#Opening connection with MongoDB\n",
    "\n",
    "client = MongoClient()\n",
    "myclient = pymongo.MongoClient(\"mongodb://127.0.0.1:27017\")\n",
    "mydb = myclient[\"DBProject\"]"
   ]
  },
  {
   "cell_type": "code",
   "execution_count": 13,
   "metadata": {
    "scrolled": true
   },
   "outputs": [
    {
     "data": {
      "text/plain": [
       "<pymongo.results.InsertManyResult at 0x1dc4675b208>"
      ]
     },
     "execution_count": 13,
     "metadata": {},
     "output_type": "execute_result"
    }
   ],
   "source": [
    "#Add documents in several collections\n",
    "\n",
    "mydb[\"attendance\"].insert_many(attendance.to_dict(\"records\"))\n",
    "mydb[\"foundObjects\"].insert_many(foundObjects.to_dict(\"records\"))\n",
    "mydb[\"lostObjects\"].insert_many(lostObjects.to_dict(\"records\"))\n",
    "mydb[\"weather\"].insert_many(weather.to_dict(\"records\"))\n",
    "mydb[\"stationList\"].insert_many(stationList.to_dict(\"records\"))"
   ]
  },
  {
   "cell_type": "markdown",
   "metadata": {},
   "source": [
    "That leads us to this \"schema\"\n",
    "<img src=\"dbmodel.PNG\" alt=\"Drawing\" style=\"width: 600px;height: 400px;\"/>"
   ]
  },
  {
   "cell_type": "markdown",
   "metadata": {},
   "source": [
    "#### 5. Selects, operations and showing graphs & insights \n",
    "\n",
    "###### Basic queries"
   ]
  },
  {
   "cell_type": "code",
   "execution_count": 14,
   "metadata": {
    "scrolled": true
   },
   "outputs": [
    {
     "data": {
      "text/plain": [
       "<matplotlib.axes._subplots.AxesSubplot at 0x1dcaf3eeba8>"
      ]
     },
     "execution_count": 14,
     "metadata": {},
     "output_type": "execute_result"
    }
   ],
   "source": [
    "# Most forgotten objects\n",
    "pd.DataFrame(list(mydb[\"foundObjects\"].aggregate( [{\"$group\":{\"_id\":\"$object_type\",\"count\":{\"$sum\":1}}}] )))\\\n",
    "            .plot.barh(x = \"_id\", y = \"count\", legend = False)"
   ]
  },
  {
   "cell_type": "code",
   "execution_count": 15,
   "metadata": {},
   "outputs": [
    {
     "data": {
      "text/plain": [
       "<matplotlib.axes._subplots.AxesSubplot at 0x1dcaf4ff8d0>"
      ]
     },
     "execution_count": 15,
     "metadata": {},
     "output_type": "execute_result"
    },
    {
     "data": {
      "image/png": "[encoded data removed]",
      "text/plain": [
       "<Figure size 432x288 with 1 Axes>"
      ]
     },
     "metadata": {},
     "output_type": "display_data"
    }
   ],
   "source": [
    "# Most returned objects (%ages per type) \n",
    "restitutionDataFrame = pd.DataFrame(list(mydb[\"foundObjects\"].find({},\\\n",
    "                                                                   {\"_id\":0, \"date\":1, \"object_type\":1,\"restitution_date\":1})))\n",
    "restitutionDataFrame.loc[restitutionDataFrame[\"restitution_date\"] != \"Na\"].groupby([\"object_type\"])[\"date\"].count()\\\n",
    "    .divide(restitutionDataFrame.groupby([\"object_type\"])[\"date\"].count())\\\n",
    "    .plot.barh()"
   ]
  },
  {
   "cell_type": "code",
   "execution_count": 16,
   "metadata": {
    "scrolled": true
   },
   "outputs": [
    {
     "data": {
      "text/plain": [
       "<matplotlib.axes._subplots.AxesSubplot at 0x1dcaf6a3ba8>"
      ]
     },
     "execution_count": 16,
     "metadata": {},
     "output_type": "execute_result"
    },
    {
     "data": {
      "image/png": "[encoded data removed]",
      "text/plain": [
       "<Figure size 432x288 with 1 Axes>"
      ]
     },
     "metadata": {},
     "output_type": "display_data"
    }
   ],
   "source": [
    "# Average time between the moment we find the object and the moment we give it back (per type)\n",
    "avgRestitutionTime = pd.DataFrame(list(mydb[\"foundObjects\"].find({\"restitution_date\" : {\"$ne\":\"Na\"}},\\\n",
    "                                                                 {\"_id\":0, \"date\":1, \"object_type\":1,\"restitution_date\":1})))\n",
    "#Delta between find and return (in s)\n",
    "avgRestitutionTime[\"delta\"] = (avgRestitutionTime[\"restitution_date\"] - avgRestitutionTime[\"date\"]).dt.total_seconds()\n",
    "#Doing the mean then dividing by 3600 to make it in hours\n",
    "avgRestitutionTime.groupby([\"object_type\"])[\"delta\"].mean().apply(lambda x: x/3600).plot.barh()"
   ]
  },
  {
   "cell_type": "markdown",
   "metadata": {},
   "source": [
    "###### Joining with attendance"
   ]
  },
  {
   "cell_type": "code",
   "execution_count": 17,
   "metadata": {
    "scrolled": true
   },
   "outputs": [
    {
     "data": {
      "text/html": [
       "<div>\n",
       "<style scoped>\n",
       "    .dataframe tbody tr th:only-of-type {\n",
       "        vertical-align: middle;\n",
       "    }\n",
       "\n",
       "    .dataframe tbody tr th {\n",
       "        vertical-align: top;\n",
       "    }\n",
       "\n",
       "    .dataframe thead th {\n",
       "        text-align: right;\n",
       "    }\n",
       "</style>\n",
       "<table border=\"1\" class=\"dataframe\">\n",
       "  <thead>\n",
       "    <tr style=\"text-align: right;\">\n",
       "      <th></th>\n",
       "      <th>_id</th>\n",
       "      <th>count</th>\n",
       "      <th>type</th>\n",
       "      <th>value</th>\n",
       "    </tr>\n",
       "  </thead>\n",
       "  <tbody>\n",
       "    <tr>\n",
       "      <th>0</th>\n",
       "      <td>87725689</td>\n",
       "      <td>6</td>\n",
       "      <td>2016</td>\n",
       "      <td>1158505.0</td>\n",
       "    </tr>\n",
       "    <tr>\n",
       "      <th>1</th>\n",
       "      <td>87382655</td>\n",
       "      <td>11</td>\n",
       "      <td>2016</td>\n",
       "      <td>6193800.0</td>\n",
       "    </tr>\n",
       "    <tr>\n",
       "      <th>2</th>\n",
       "      <td>87444711</td>\n",
       "      <td>4</td>\n",
       "      <td>2016</td>\n",
       "      <td>371714.0</td>\n",
       "    </tr>\n",
       "    <tr>\n",
       "      <th>3</th>\n",
       "      <td>87745679</td>\n",
       "      <td>26</td>\n",
       "      <td>2016</td>\n",
       "      <td>161881.0</td>\n",
       "    </tr>\n",
       "    <tr>\n",
       "      <th>4</th>\n",
       "      <td>87215012</td>\n",
       "      <td>14</td>\n",
       "      <td>2016</td>\n",
       "      <td>702899.0</td>\n",
       "    </tr>\n",
       "  </tbody>\n",
       "</table>\n",
       "</div>"
      ],
      "text/plain": [
       "        _id  count  type      value\n",
       "0  87725689      6  2016  1158505.0\n",
       "1  87382655     11  2016  6193800.0\n",
       "2  87444711      4  2016   371714.0\n",
       "3  87745679     26  2016   161881.0\n",
       "4  87215012     14  2016   702899.0"
      ]
     },
     "execution_count": 17,
     "metadata": {},
     "output_type": "execute_result"
    }
   ],
   "source": [
    "# How much objects lost regarding attendance\n",
    "attendanceLostObjects = pd.DataFrame(list(mydb[\"foundObjects\"].aggregate([\n",
    "    {\"$match\":{\"date\" :{\"$gte\":pd.to_datetime(\"2016-01-01 00:00:00\"), \"$lte\":pd.to_datetime(\"2016-12-31 00:00:00\")}}}\n",
    "    ,{\"$group\":{\"_id\":\"$uic_code\",\"count\":{\"$sum\":1}}}\n",
    "    ,{\"$lookup\":{\"from\":\"attendance\"\n",
    "                ,\"let\":{ \"uic\":\"$_id\"}\n",
    "                ,\"pipeline\":[\n",
    "                    {\"$match\":\n",
    "                        {\"$expr\":\n",
    "                            {\"$and\":[\n",
    "                                {\"$eq\":[\"$type\",\"2016\"]},\n",
    "                                {\"$eq\":[\"$uic_code\",\"$$uic\"]}\n",
    "                            ]}\n",
    "                        }\n",
    "                    }\n",
    "                ]\n",
    "                ,\"as\":\"join\"\n",
    "                }\n",
    "     }\n",
    "    ,{\"$replaceRoot\": { \"newRoot\": { \"$mergeObjects\": [ { \"$arrayElemAt\": [ \"$join\", 0 ] }, \"$$ROOT\" ] } }}\n",
    "    ,{ \"$project\": { \"join\": 0, \"uic_code\":0 } }\n",
    "])))\n",
    "attendanceLostObjects.head(5)"
   ]
  },
  {
   "cell_type": "code",
   "execution_count": 18,
   "metadata": {
    "scrolled": true
   },
   "outputs": [
    {
     "data": {
      "text/plain": [
       "<matplotlib.axes._subplots.AxesSubplot at 0x1dcaf876470>"
      ]
     },
     "execution_count": 18,
     "metadata": {},
     "output_type": "execute_result"
    },
    {
     "data": {
      "image/png": "[encoded data removed]",
      "text/plain": [
       "<Figure size 432x288 with 1 Axes>"
      ]
     },
     "metadata": {},
     "output_type": "display_data"
    }
   ],
   "source": [
    "# Mean of lost objects number regrouped by classes of attendance\n",
    "# > 5 Because otherwise it wouldn't be representative enough\n",
    "attendanceLostObjects.groupby(pd.cut(attendanceLostObjects[\"value\"], np.arange(0,135000000,1000000)))[\"count\"].mean()\\\n",
    "[attendanceLostObjects.groupby(pd.cut(attendanceLostObjects[\"value\"], np.arange(0,135000000,1000000)))[\"count\"].count() > 5]\\\n",
    ".plot.barh()"
   ]
  },
  {
   "cell_type": "code",
   "execution_count": 19,
   "metadata": {
    "scrolled": true
   },
   "outputs": [
    {
     "data": {
      "text/plain": [
       "<matplotlib.axes._subplots.AxesSubplot at 0x1dcafb1aef0>"
      ]
     },
     "execution_count": 19,
     "metadata": {},
     "output_type": "execute_result"
    },
    {
     "data": {
      "image/png": "[encoded data removed]",
      "text/plain": [
       "<Figure size 432x288 with 1 Axes>"
      ]
     },
     "metadata": {},
     "output_type": "display_data"
    }
   ],
   "source": [
    "# Average lost objects per person doesn't seem to depend on the station's attendance\n",
    "attendanceLostObjects[\"ratio\"] = (attendanceLostObjects[\"count\"].divide(attendanceLostObjects[\"value\"])*100)\n",
    "attendanceLostObjects.groupby(pd.cut(attendanceLostObjects[\"value\"], np.arange(0,135000000,1000000)))[\"ratio\"].mean()\\\n",
    "    [attendanceLostObjects.groupby(pd.cut(attendanceLostObjects[\"value\"], np.arange(0,135000000,1000000)))[\"ratio\"].count() > 5]\\\n",
    "    .plot.barh()"
   ]
  },
  {
   "cell_type": "markdown",
   "metadata": {},
   "source": [
    "###### Joining with weather"
   ]
  },
  {
   "cell_type": "code",
   "execution_count": 20,
   "metadata": {},
   "outputs": [],
   "source": [
    "# Comparison of found objects amount with weather in Paris 2017 !\n",
    "\n",
    "#Weather in Paris in 2017\n",
    "parisWeather = pd.DataFrame(list(mydb[\"weather\"].find(\n",
    "                                    {\"$and\": \n",
    "                                     [\n",
    "                                         {\"city\" : {\"$eq\":\"Paris\"}},\n",
    "                                         {\"date\" : {\"$gte\":pd.to_datetime(\"2017-01-01 00:00:00\"), \"$lte\":pd.to_datetime(\"2017-12-31 00:00:00\")}} \n",
    "                                     ]\n",
    "                                    },\n",
    "                                    {\"_id\":0, \"rain_condition_code\":0,\"rain_depth_dimension\":0,\"rain_period_quantity\":0,\"rain_quality_code\":0})))\n",
    "\n",
    "parisWeather[\"weather_description\"] = parisWeather[\"weather_description\"].astype(np.int64)\n",
    "\n",
    "# Railway stations in Paris\n",
    "parisStationList = pd.DataFrame(list(mydb[\"stationList\"].find(\n",
    "    {\"department\" :{\"$eq\":\"Paris\"} }, {\"_id\":0, \"uic_code\":1}\n",
    "))).drop_duplicates() #Because one station may have more than one platform\n",
    "\n",
    "# Found objects \n",
    "foundObjects2017 = pd.DataFrame(list(mydb[\"foundObjects\"].find(\n",
    "    {\"date\" :{\"$gte\":pd.to_datetime(\"2017-01-01 00:00:00\"), \"$lte\":pd.to_datetime(\"2017-12-31 00:00:00\")}}\n",
    "    ,{\"_id\":0,\"station\":0,\"recording_type\":0}    \n",
    ")))\n",
    "\n",
    "comparisonFoundObjectWeatherParis = foundObjects2017.merge(parisStationList, how = \"inner\", on = [\"uic_code\"]).set_index(\"date\")"
   ]
  },
  {
   "cell_type": "code",
   "execution_count": 21,
   "metadata": {
    "scrolled": false
   },
   "outputs": [
    {
     "name": "stdout",
     "output_type": "stream",
     "text": [
      "Percentage of lost umbrella during rain :  8.636363636363637 %\n",
      "Number of umbrellas lost per hour when it doesn't rain : 0.025096766138094643\n",
      "Number of umbrellas lost per hour when it rains : 0.030744336569579287\n"
     ]
    }
   ],
   "source": [
    "# Comparison of found objects amount when it's not raining or not\n",
    "\n",
    "#   Different steps :\n",
    "# Selecting only umbrellas\n",
    "# Grouping by Hours \n",
    "# Joining with weather \n",
    "# Counting them by weather description\n",
    "\n",
    "rainCount = comparisonFoundObjectWeatherParis.loc[comparisonFoundObjectWeatherParis[\"object_type\"] == \"Parapluies\"]\\\n",
    "                                 .resample(\"60Min\")[\"object_nature\"]\\\n",
    "                                 .count()\\\n",
    "                                 .rename(\"count\")\\\n",
    "                                 .reset_index()\\\n",
    "                                 .merge(parisWeather, how = \"inner\", on = [\"date\"])\\\n",
    "                                 .groupby(\"weather_description\")[\"count\"].sum()\\\n",
    "                                 .reset_index()\\\n",
    "                                 .astype(np.int64)\n",
    "\n",
    "\n",
    "totalLost = rainCount[\"count\"].sum()\n",
    "lostDuringRain = rainCount.loc[(rainCount[\"weather_description\"] >= 50)][\"count\"].sum()\n",
    "\n",
    "print(\"Percentage of lost umbrella during rain : \", lostDuringRain*100/totalLost, \"%\")\n",
    "print(\"Number of umbrellas lost per hour when it doesn't rain :\",(totalLost-lostDuringRain)/parisWeather.loc[(parisWeather[\"weather_description\"] < 50)][\"date\"].count())\n",
    "print(\"Number of umbrellas lost per hour when it rains :\",lostDuringRain/parisWeather.loc[(parisWeather[\"weather_description\"] >= 50)][\"date\"].count())"
   ]
  },
  {
   "cell_type": "code",
   "execution_count": 22,
   "metadata": {},
   "outputs": [
    {
     "name": "stdout",
     "output_type": "stream",
     "text": [
      "Percentage of lost objects (except umbrellas) during rain :  6.760372159884998 %\n",
      "Number of objects (except umbrellas) lost per hour when it doesn't rain : 2.9154700961418403\n",
      "Number of objects (except umbrellas) lost per hour when it rains : 2.7394822006472492\n"
     ]
    }
   ],
   "source": [
    "# Let's see what's happening with the other items\n",
    "#Same method !\n",
    "\n",
    "rainCount = comparisonFoundObjectWeatherParis.loc[comparisonFoundObjectWeatherParis[\"object_type\"] != \"Parapluies\"]\\\n",
    "                                 .resample(\"60Min\")[\"object_nature\"]\\\n",
    "                                 .count()\\\n",
    "                                 .rename(\"count\")\\\n",
    "                                 .reset_index()\\\n",
    "                                 .merge(parisWeather, how = \"inner\", on = [\"date\"])\\\n",
    "                                 .groupby(\"weather_description\")[\"count\"].sum()\\\n",
    "                                 .reset_index()\\\n",
    "                                 .astype(np.int64)\n",
    "\n",
    "\n",
    "totalLost = rainCount[\"count\"].sum()\n",
    "lostDuringRain = rainCount.loc[(rainCount[\"weather_description\"] >= 50)][\"count\"].sum()\n",
    "\n",
    "print(\"Percentage of lost objects (except umbrellas) during rain : \", lostDuringRain*100/totalLost, \"%\")\n",
    "print(\"Number of objects (except umbrellas) lost per hour when it doesn't rain :\",(totalLost-lostDuringRain)/parisWeather.loc[(parisWeather[\"weather_description\"] < 50)][\"date\"].count())\n",
    "print(\"Number of objects (except umbrellas) lost per hour when it rains :\",lostDuringRain/parisWeather.loc[(parisWeather[\"weather_description\"] >= 50)][\"date\"].count())"
   ]
  },
  {
   "cell_type": "code",
   "execution_count": 23,
   "metadata": {
    "scrolled": true
   },
   "outputs": [
    {
     "data": {
      "text/plain": [
       "<matplotlib.axes._subplots.AxesSubplot at 0x1dcafc2d198>"
      ]
     },
     "execution_count": 23,
     "metadata": {},
     "output_type": "execute_result"
    },
    {
     "data": {
      "image/png": "[encoded data removed]",
      "text/plain": [
       "<Figure size 432x288 with 1 Axes>"
      ]
     },
     "metadata": {},
     "output_type": "display_data"
    }
   ],
   "source": [
    "# Let's see the temperatures now !\n",
    "#Focusing on clothes\n",
    "temperatureCount = comparisonFoundObjectWeatherParis.loc[comparisonFoundObjectWeatherParis[\"object_type\"] == \"Vêtements, chaussures\"]\\\n",
    "                                 .resample(\"60Min\")[\"object_nature\"]\\\n",
    "                                 .count()\\\n",
    "                                 .rename(\"count\")\\\n",
    "                                 .reset_index()\\\n",
    "                                 .merge(parisWeather, how = \"inner\", on = [\"date\"])\\\n",
    "\n",
    "#Nb of clothes lost per hour depending on temperature intervals \n",
    "temperatureCount.groupby(pd.cut(temperatureCount[\"temperature\"], np.arange(-5,40,3)))[\"count\"].sum().plot.barh()"
   ]
  },
  {
   "cell_type": "code",
   "execution_count": 24,
   "metadata": {},
   "outputs": [
    {
     "data": {
      "text/plain": [
       "<matplotlib.axes._subplots.AxesSubplot at 0x1dcb00deeb8>"
      ]
     },
     "execution_count": 24,
     "metadata": {},
     "output_type": "execute_result"
    },
    {
     "data": {
      "image/png": "[encoded data removed]",
      "text/plain": [
       "<Figure size 432x288 with 1 Axes>"
      ]
     },
     "metadata": {},
     "output_type": "display_data"
    }
   ],
   "source": [
    "#Nb of clothes lost per hour depending on temperature intervals \n",
    "temperatureCount.groupby(pd.cut(temperatureCount[\"temperature\"], np.arange(-5,40,3)))[\"count\"].sum().divide(\n",
    "parisWeather.groupby(pd.cut(parisWeather[\"temperature\"], np.arange(-5,40,3)))[\"date\"].count()).plot.barh()"
   ]
  },
  {
   "cell_type": "code",
   "execution_count": 25,
   "metadata": {},
   "outputs": [
    {
     "data": {
      "text/plain": [
       "<matplotlib.axes._subplots.AxesSubplot at 0x1dcb03e4b00>"
      ]
     },
     "execution_count": 25,
     "metadata": {},
     "output_type": "execute_result"
    },
    {
     "data": {
      "image/png": "[encoded data removed]",
      "text/plain": [
       "<Figure size 432x288 with 1 Axes>"
      ]
     },
     "metadata": {},
     "output_type": "display_data"
    }
   ],
   "source": [
    "# Let's see what's happening with the other items\n",
    "#Same method !\n",
    "temperatureCount = comparisonFoundObjectWeatherParis\\\n",
    "                                 .resample(\"60Min\")[\"object_nature\"]\\\n",
    "                                 .count()\\\n",
    "                                 .rename(\"count\")\\\n",
    "                                 .reset_index()\\\n",
    "                                 .merge(parisWeather, how = \"inner\", on = [\"date\"])\\\n",
    "\n",
    "\n",
    "#Nb of objects lost per hour depending on temperature intervals \n",
    "temperatureCount.groupby(pd.cut(temperatureCount[\"temperature\"], np.arange(-5,40,3)))[\"count\"].sum().divide(\n",
    "parisWeather.groupby(pd.cut(parisWeather[\"temperature\"], np.arange(-5,40,3)))[\"date\"].count()).plot.barh()"
   ]
  },
  {
   "cell_type": "markdown",
   "metadata": {},
   "source": [
    "###### Finding inconsistencies on Found Objects vs Lost Objects"
   ]
  },
  {
   "cell_type": "code",
   "execution_count": 31,
   "metadata": {
    "scrolled": true
   },
   "outputs": [
    {
     "name": "stdout",
     "output_type": "stream",
     "text": [
      "Difference between declared lost objects and found ones: 385019\n"
     ]
    }
   ],
   "source": [
    "lostObjects = pd.DataFrame(list(mydb[\"lostObjects\"].find({})))\n",
    "foundObjects = pd.DataFrame(list(mydb[\"foundObjects\"].find({})))\n",
    "    \n",
    "#Record difference between lost and declared\n",
    "print(\"Difference between declared lost objects and found ones:\", len(lostObjects) - len(foundObjects))"
   ]
  },
  {
   "cell_type": "code",
   "execution_count": 32,
   "metadata": {
    "scrolled": true
   },
   "outputs": [
    {
     "data": {
      "text/plain": [
       "<matplotlib.axes._subplots.AxesSubplot at 0x1dc451e6e10>"
      ]
     },
     "execution_count": 32,
     "metadata": {},
     "output_type": "execute_result"
    },
    {
     "data": {
      "image/png": "[encoded data removed]",
      "text/plain": [
       "<Figure size 432x288 with 1 Axes>"
      ]
     },
     "metadata": {},
     "output_type": "display_data"
    }
   ],
   "source": [
    "# Top 5 categories of objects declared as lost\n",
    "lostObjects.groupby(\"object_type\")[\"date\"].count().sort_values(ascending = False).head(5).plot.barh()"
   ]
  },
  {
   "cell_type": "code",
   "execution_count": 33,
   "metadata": {
    "scrolled": true
   },
   "outputs": [
    {
     "data": {
      "text/plain": [
       "<matplotlib.axes._subplots.AxesSubplot at 0x1dcab01cac8>"
      ]
     },
     "execution_count": 33,
     "metadata": {},
     "output_type": "execute_result"
    },
    {
     "data": {
      "image/png": "[encoded data removed]",
      "text/plain": [
       "<Figure size 432x288 with 1 Axes>"
      ]
     },
     "metadata": {},
     "output_type": "display_data"
    }
   ],
   "source": [
    "# Top 5 nature of objects declared as lost \n",
    "lostObjects.groupby(\"object_nature\")[\"date\"].count().sort_values(ascending=False).head(5).plot.barh()"
   ]
  },
  {
   "cell_type": "code",
   "execution_count": 34,
   "metadata": {
    "scrolled": true
   },
   "outputs": [
    {
     "data": {
      "text/plain": [
       "<matplotlib.axes._subplots.AxesSubplot at 0x1dcaa1bfbe0>"
      ]
     },
     "execution_count": 34,
     "metadata": {},
     "output_type": "execute_result"
    },
    {
     "data": {
      "image/png": "[encoded data removed]",
      "text/plain": [
       "<Figure size 432x288 with 1 Axes>"
      ]
     },
     "metadata": {},
     "output_type": "display_data"
    }
   ],
   "source": [
    "#\n",
    "#Top 5 label of declared as lost objects\n",
    "topDeclaredObjectNature = lostObjects.groupby(\"object_nature\")[\"date\"].count().sort_values(ascending=False).head(5).index\n",
    "\n",
    "(foundObjects.loc[(foundObjects[\"object_nature\"].isin(topDeclaredObjectNature)) & (foundObjects[\"restitution_date\"] != \"Na\")].groupby(\"object_nature\")[\"date\"].count()*100).divide(\n",
    "lostObjects.loc[lostObjects[\"object_nature\"].isin(topDeclaredObjectNature)].groupby(\"object_nature\")[\"date\"].count()).sort_values(ascending =False).plot.barh()"
   ]
  }
 ],
 "metadata": {
  "kernelspec": {
   "display_name": "Python 3",
   "language": "python",
   "name": "python3"
  },
  "language_info": {
   "codemirror_mode": {
    "name": "ipython",
    "version": 3
   },
   "file_extension": ".py",
   "mimetype": "text/x-python",
   "name": "python",
   "nbconvert_exporter": "python",
   "pygments_lexer": "ipython3",
   "version": "3.6.5"
  }
 },
 "nbformat": 4,
 "nbformat_minor": 2
}
